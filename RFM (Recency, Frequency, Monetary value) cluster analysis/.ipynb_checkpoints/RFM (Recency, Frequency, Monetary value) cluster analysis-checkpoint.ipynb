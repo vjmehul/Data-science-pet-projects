{
 "cells": [
  {
   "cell_type": "markdown",
   "metadata": {},
   "source": [
    "# RFM (Recency, Frequency, Monetary value) cluster analysis\n",
    "\n",
    "### RMF stands for Recency, Frequency, and Monetary value, each corresponding to some key customer trait. These RFM metrics are important indicators of a customer’s behavior because frequency and monetary value affects a customer’s lifetime value, and recency affects retention, a measure of engagement.\n",
    "\n",
    "### Recency: has it been a long time since we've heard from our customers? The accounts that are generating revenue right now are of the most immediate interest to us. Inversely, the customers who haven't made an order in a long time are in need of attention\n",
    "### Frequency: how often are our customers buying? Our most valuable and reliable customers will be buying on a consistent basis.\n",
    "### Monetary: on paper, how valuable is each customer? Our dataset records each interaction a customer has had with the company, including orders, returns, cancellations, discounts, etc. We can aggregate the number of total transactions for each customer, as well as sum and mean values for each customer's transactions, to get a glimpse of their net \"give and take\" impact. Note: we cannot use standard deviation of customer's transaction values because some customers have recorded just one transaction, yielding a meaningless standard deviation of infinite value\n",
    "\n",
    "### Recency (R) as days since last purchase: How many days ago was their last purchase? Deduct most recent purchase date from today to calculate the recency value. 1 day ago? 14 days ago? 500 days ago?\n",
    "### Frequency (F) as total number of transactions: How many times has the customer purchased from our store? For example, if someone placed 10 orders over a period of time, their frequency is 10.\n",
    "### Monetary (M) as total money spent: How many $$ (or whatever is your currency of calculation) has this customer spent? Again limit to last two years – or take all time. Simply total up the money from all transactions to get the M value."
   ]
  },
  {
   "cell_type": "code",
   "execution_count": 37,
   "metadata": {},
   "outputs": [],
   "source": [
    "import pandas as pd\n",
    "import numpy as np\n",
    "import matplotlib.pyplot as plt\n",
    "import matplotlib.cm as cm\n",
    "import seaborn as sns\n",
    "import warnings\n",
    "import math\n",
    "\n",
    "from sklearn.cluster import KMeans\n",
    "from sklearn.metrics import silhouette_score, silhouette_samples, confusion_matrix, classification_report\n",
    "from sklearn.decomposition import PCA\n",
    "from sklearn.preprocessing import MaxAbsScaler\n",
    "from sklearn.model_selection import train_test_split, GridSearchCV, cross_val_predict\n",
    "from sklearn.ensemble import GradientBoostingClassifier\n",
    "\n",
    "warnings.filterwarnings('ignore')\n",
    "% matplotlib inline"
   ]
  },
  {
   "cell_type": "code",
   "execution_count": 4,
   "metadata": {},
   "outputs": [],
   "source": [
    "df = pd.read_excel('Online Retail.xlsx')"
   ]
  },
  {
   "cell_type": "code",
   "execution_count": 8,
   "metadata": {},
   "outputs": [
    {
     "data": {
      "text/html": [
       "<div>\n",
       "<style scoped>\n",
       "    .dataframe tbody tr th:only-of-type {\n",
       "        vertical-align: middle;\n",
       "    }\n",
       "\n",
       "    .dataframe tbody tr th {\n",
       "        vertical-align: top;\n",
       "    }\n",
       "\n",
       "    .dataframe thead th {\n",
       "        text-align: right;\n",
       "    }\n",
       "</style>\n",
       "<table border=\"1\" class=\"dataframe\">\n",
       "  <thead>\n",
       "    <tr style=\"text-align: right;\">\n",
       "      <th></th>\n",
       "      <th>InvoiceNo</th>\n",
       "      <th>StockCode</th>\n",
       "      <th>Description</th>\n",
       "      <th>Quantity</th>\n",
       "      <th>InvoiceDate</th>\n",
       "      <th>UnitPrice</th>\n",
       "      <th>CustomerID</th>\n",
       "      <th>Country</th>\n",
       "    </tr>\n",
       "  </thead>\n",
       "  <tbody>\n",
       "    <tr>\n",
       "      <th>0</th>\n",
       "      <td>536365</td>\n",
       "      <td>85123A</td>\n",
       "      <td>WHITE HANGING HEART T-LIGHT HOLDER</td>\n",
       "      <td>6</td>\n",
       "      <td>2010-12-01 08:26:00</td>\n",
       "      <td>2.55</td>\n",
       "      <td>17850.0</td>\n",
       "      <td>United Kingdom</td>\n",
       "    </tr>\n",
       "    <tr>\n",
       "      <th>1</th>\n",
       "      <td>536365</td>\n",
       "      <td>71053</td>\n",
       "      <td>WHITE METAL LANTERN</td>\n",
       "      <td>6</td>\n",
       "      <td>2010-12-01 08:26:00</td>\n",
       "      <td>3.39</td>\n",
       "      <td>17850.0</td>\n",
       "      <td>United Kingdom</td>\n",
       "    </tr>\n",
       "    <tr>\n",
       "      <th>2</th>\n",
       "      <td>536365</td>\n",
       "      <td>84406B</td>\n",
       "      <td>CREAM CUPID HEARTS COAT HANGER</td>\n",
       "      <td>8</td>\n",
       "      <td>2010-12-01 08:26:00</td>\n",
       "      <td>2.75</td>\n",
       "      <td>17850.0</td>\n",
       "      <td>United Kingdom</td>\n",
       "    </tr>\n",
       "    <tr>\n",
       "      <th>3</th>\n",
       "      <td>536365</td>\n",
       "      <td>84029G</td>\n",
       "      <td>KNITTED UNION FLAG HOT WATER BOTTLE</td>\n",
       "      <td>6</td>\n",
       "      <td>2010-12-01 08:26:00</td>\n",
       "      <td>3.39</td>\n",
       "      <td>17850.0</td>\n",
       "      <td>United Kingdom</td>\n",
       "    </tr>\n",
       "    <tr>\n",
       "      <th>4</th>\n",
       "      <td>536365</td>\n",
       "      <td>84029E</td>\n",
       "      <td>RED WOOLLY HOTTIE WHITE HEART.</td>\n",
       "      <td>6</td>\n",
       "      <td>2010-12-01 08:26:00</td>\n",
       "      <td>3.39</td>\n",
       "      <td>17850.0</td>\n",
       "      <td>United Kingdom</td>\n",
       "    </tr>\n",
       "    <tr>\n",
       "      <th>5</th>\n",
       "      <td>536365</td>\n",
       "      <td>22752</td>\n",
       "      <td>SET 7 BABUSHKA NESTING BOXES</td>\n",
       "      <td>2</td>\n",
       "      <td>2010-12-01 08:26:00</td>\n",
       "      <td>7.65</td>\n",
       "      <td>17850.0</td>\n",
       "      <td>United Kingdom</td>\n",
       "    </tr>\n",
       "    <tr>\n",
       "      <th>6</th>\n",
       "      <td>536365</td>\n",
       "      <td>21730</td>\n",
       "      <td>GLASS STAR FROSTED T-LIGHT HOLDER</td>\n",
       "      <td>6</td>\n",
       "      <td>2010-12-01 08:26:00</td>\n",
       "      <td>4.25</td>\n",
       "      <td>17850.0</td>\n",
       "      <td>United Kingdom</td>\n",
       "    </tr>\n",
       "    <tr>\n",
       "      <th>7</th>\n",
       "      <td>536366</td>\n",
       "      <td>22633</td>\n",
       "      <td>HAND WARMER UNION JACK</td>\n",
       "      <td>6</td>\n",
       "      <td>2010-12-01 08:28:00</td>\n",
       "      <td>1.85</td>\n",
       "      <td>17850.0</td>\n",
       "      <td>United Kingdom</td>\n",
       "    </tr>\n",
       "    <tr>\n",
       "      <th>8</th>\n",
       "      <td>536366</td>\n",
       "      <td>22632</td>\n",
       "      <td>HAND WARMER RED POLKA DOT</td>\n",
       "      <td>6</td>\n",
       "      <td>2010-12-01 08:28:00</td>\n",
       "      <td>1.85</td>\n",
       "      <td>17850.0</td>\n",
       "      <td>United Kingdom</td>\n",
       "    </tr>\n",
       "    <tr>\n",
       "      <th>9</th>\n",
       "      <td>536367</td>\n",
       "      <td>84879</td>\n",
       "      <td>ASSORTED COLOUR BIRD ORNAMENT</td>\n",
       "      <td>32</td>\n",
       "      <td>2010-12-01 08:34:00</td>\n",
       "      <td>1.69</td>\n",
       "      <td>13047.0</td>\n",
       "      <td>United Kingdom</td>\n",
       "    </tr>\n",
       "  </tbody>\n",
       "</table>\n",
       "</div>"
      ],
      "text/plain": [
       "  InvoiceNo StockCode                          Description  Quantity  \\\n",
       "0    536365    85123A   WHITE HANGING HEART T-LIGHT HOLDER         6   \n",
       "1    536365     71053                  WHITE METAL LANTERN         6   \n",
       "2    536365    84406B       CREAM CUPID HEARTS COAT HANGER         8   \n",
       "3    536365    84029G  KNITTED UNION FLAG HOT WATER BOTTLE         6   \n",
       "4    536365    84029E       RED WOOLLY HOTTIE WHITE HEART.         6   \n",
       "5    536365     22752         SET 7 BABUSHKA NESTING BOXES         2   \n",
       "6    536365     21730    GLASS STAR FROSTED T-LIGHT HOLDER         6   \n",
       "7    536366     22633               HAND WARMER UNION JACK         6   \n",
       "8    536366     22632            HAND WARMER RED POLKA DOT         6   \n",
       "9    536367     84879        ASSORTED COLOUR BIRD ORNAMENT        32   \n",
       "\n",
       "          InvoiceDate  UnitPrice  CustomerID         Country  \n",
       "0 2010-12-01 08:26:00       2.55     17850.0  United Kingdom  \n",
       "1 2010-12-01 08:26:00       3.39     17850.0  United Kingdom  \n",
       "2 2010-12-01 08:26:00       2.75     17850.0  United Kingdom  \n",
       "3 2010-12-01 08:26:00       3.39     17850.0  United Kingdom  \n",
       "4 2010-12-01 08:26:00       3.39     17850.0  United Kingdom  \n",
       "5 2010-12-01 08:26:00       7.65     17850.0  United Kingdom  \n",
       "6 2010-12-01 08:26:00       4.25     17850.0  United Kingdom  \n",
       "7 2010-12-01 08:28:00       1.85     17850.0  United Kingdom  \n",
       "8 2010-12-01 08:28:00       1.85     17850.0  United Kingdom  \n",
       "9 2010-12-01 08:34:00       1.69     13047.0  United Kingdom  "
      ]
     },
     "execution_count": 8,
     "metadata": {},
     "output_type": "execute_result"
    }
   ],
   "source": [
    "Data_clus=df.copy()\n",
    "Data_clus.head(10)"
   ]
  },
  {
   "cell_type": "code",
   "execution_count": 9,
   "metadata": {},
   "outputs": [
    {
     "data": {
      "text/html": [
       "<div>\n",
       "<style scoped>\n",
       "    .dataframe tbody tr th:only-of-type {\n",
       "        vertical-align: middle;\n",
       "    }\n",
       "\n",
       "    .dataframe tbody tr th {\n",
       "        vertical-align: top;\n",
       "    }\n",
       "\n",
       "    .dataframe thead th {\n",
       "        text-align: right;\n",
       "    }\n",
       "</style>\n",
       "<table border=\"1\" class=\"dataframe\">\n",
       "  <thead>\n",
       "    <tr style=\"text-align: right;\">\n",
       "      <th></th>\n",
       "      <th>InvoiceNo</th>\n",
       "      <th>StockCode</th>\n",
       "      <th>Description</th>\n",
       "      <th>Quantity</th>\n",
       "      <th>InvoiceDate</th>\n",
       "      <th>UnitPrice</th>\n",
       "      <th>CustomerID</th>\n",
       "      <th>Country</th>\n",
       "      <th>Rev</th>\n",
       "    </tr>\n",
       "  </thead>\n",
       "  <tbody>\n",
       "    <tr>\n",
       "      <th>0</th>\n",
       "      <td>536365</td>\n",
       "      <td>85123A</td>\n",
       "      <td>WHITE HANGING HEART T-LIGHT HOLDER</td>\n",
       "      <td>6</td>\n",
       "      <td>2010-12-01</td>\n",
       "      <td>2.55</td>\n",
       "      <td>17850.0</td>\n",
       "      <td>United Kingdom</td>\n",
       "      <td>15.30</td>\n",
       "    </tr>\n",
       "    <tr>\n",
       "      <th>1</th>\n",
       "      <td>536365</td>\n",
       "      <td>71053</td>\n",
       "      <td>WHITE METAL LANTERN</td>\n",
       "      <td>6</td>\n",
       "      <td>2010-12-01</td>\n",
       "      <td>3.39</td>\n",
       "      <td>17850.0</td>\n",
       "      <td>United Kingdom</td>\n",
       "      <td>20.34</td>\n",
       "    </tr>\n",
       "    <tr>\n",
       "      <th>2</th>\n",
       "      <td>536365</td>\n",
       "      <td>84406B</td>\n",
       "      <td>CREAM CUPID HEARTS COAT HANGER</td>\n",
       "      <td>8</td>\n",
       "      <td>2010-12-01</td>\n",
       "      <td>2.75</td>\n",
       "      <td>17850.0</td>\n",
       "      <td>United Kingdom</td>\n",
       "      <td>22.00</td>\n",
       "    </tr>\n",
       "    <tr>\n",
       "      <th>3</th>\n",
       "      <td>536365</td>\n",
       "      <td>84029G</td>\n",
       "      <td>KNITTED UNION FLAG HOT WATER BOTTLE</td>\n",
       "      <td>6</td>\n",
       "      <td>2010-12-01</td>\n",
       "      <td>3.39</td>\n",
       "      <td>17850.0</td>\n",
       "      <td>United Kingdom</td>\n",
       "      <td>20.34</td>\n",
       "    </tr>\n",
       "    <tr>\n",
       "      <th>4</th>\n",
       "      <td>536365</td>\n",
       "      <td>84029E</td>\n",
       "      <td>RED WOOLLY HOTTIE WHITE HEART.</td>\n",
       "      <td>6</td>\n",
       "      <td>2010-12-01</td>\n",
       "      <td>3.39</td>\n",
       "      <td>17850.0</td>\n",
       "      <td>United Kingdom</td>\n",
       "      <td>20.34</td>\n",
       "    </tr>\n",
       "  </tbody>\n",
       "</table>\n",
       "</div>"
      ],
      "text/plain": [
       "  InvoiceNo StockCode                          Description  Quantity  \\\n",
       "0    536365    85123A   WHITE HANGING HEART T-LIGHT HOLDER         6   \n",
       "1    536365     71053                  WHITE METAL LANTERN         6   \n",
       "2    536365    84406B       CREAM CUPID HEARTS COAT HANGER         8   \n",
       "3    536365    84029G  KNITTED UNION FLAG HOT WATER BOTTLE         6   \n",
       "4    536365    84029E       RED WOOLLY HOTTIE WHITE HEART.         6   \n",
       "\n",
       "  InvoiceDate  UnitPrice  CustomerID         Country    Rev  \n",
       "0  2010-12-01       2.55     17850.0  United Kingdom  15.30  \n",
       "1  2010-12-01       3.39     17850.0  United Kingdom  20.34  \n",
       "2  2010-12-01       2.75     17850.0  United Kingdom  22.00  \n",
       "3  2010-12-01       3.39     17850.0  United Kingdom  20.34  \n",
       "4  2010-12-01       3.39     17850.0  United Kingdom  20.34  "
      ]
     },
     "execution_count": 9,
     "metadata": {},
     "output_type": "execute_result"
    }
   ],
   "source": [
    "# calculating total price which is quantity times unit price\n",
    "df['Rev'] = df['Quantity'] * df['UnitPrice']\n",
    "#stripping date\n",
    "df['InvoiceDate'] = pd.to_datetime(df['InvoiceDate'].astype('str').str.split(' ').str.get(0))\n",
    "df.head()"
   ]
  },
  {
   "cell_type": "markdown",
   "metadata": {},
   "source": [
    "## Missing valve treatment"
   ]
  },
  {
   "cell_type": "code",
   "execution_count": 28,
   "metadata": {},
   "outputs": [],
   "source": [
    "misssing_value=df.isnull().sum()\n",
    "misssing_value=pd.DataFrame({'Missing_value':misssing_value.values,'column_name':misssing_value.index,})\n",
    "misssing_value\n",
    "\n",
    "# removing data with customer id as NA and keeping missing discriptions as NA\n",
    "df['Description'] = df['Description'].fillna('NA')\n",
    "df.dropna(inplace=True)"
   ]
  },
  {
   "cell_type": "code",
   "execution_count": 38,
   "metadata": {},
   "outputs": [],
   "source": [
    "def transaction_time_bw(df, customer_id, date_id, invoice_id, time_period='week'):\n",
    "    temp_dict = {}\n",
    "    for ID in df[customer_id].unique():\n",
    "        if time_period == 'week':\n",
    "            temp = abs(df[df[customer_id] == int(ID)].drop_duplicates(invoice_id)[date_id].dt.week.diff()).dropna()\n",
    "        elif time_period == 'month':\n",
    "            temp = abs(df[df[customer_id] == int(ID)].drop_duplicates(invoice_id)[date_id].dt.month.diff()).dropna()\n",
    "        else:\n",
    "            temp = abs(df[df[customer_id] == int(ID)].drop_duplicates(Invoice_id)[date_id].diff()).dropna()\n",
    "        if temp.empty is True:\n",
    "            temp_dict[int(ID)] = 0\n",
    "        else:\n",
    "            temp_dict[int(ID)] = math.floor(temp.astype('str').str.split(' ').str.get(0).astype(np.float64).mean())\n",
    "    temp_series = pd.Series(data=list(temp_dict.values()), index=list(temp_dict.keys())).sort_index().fillna(0)\n",
    "    return temp_series"
   ]
  },
  {
   "cell_type": "code",
   "execution_count": 39,
   "metadata": {},
   "outputs": [],
   "source": [
    "time_deltas = transaction_time_bw(df, 'CustomerID', 'InvoiceDate', 'InvoiceNo')"
   ]
  },
  {
   "cell_type": "code",
   "execution_count": 40,
   "metadata": {},
   "outputs": [],
   "source": [
    "def transaction_time_delta(df, customer_id, date_id, time_period='week'):\n",
    "    temp_dict = {}\n",
    "    temp_dict2 = {}\n",
    "    for ID in df[customer_id].unique():\n",
    "        temp = df[df[customer_id] == int(ID)][date_id]\n",
    "        if temp.empty is True:\n",
    "            continue\n",
    "        else:\n",
    "            if time_period == 'week':\n",
    "                temp_dict[int(ID)] = (df[date_id].max().to_period('W') - temp.max().to_period('W'))\n",
    "                temp_dict2[int(ID)] = (df[date_id].max().to_period('W') - temp.min().to_period('W'))\n",
    "            elif time_period == 'month':\n",
    "                temp_dict[int(ID)] = (df[date_id].max().to_period('M') - temp.max().to_period('M'))\n",
    "                temp_dict2[int(ID)] = (df[date_id].max().to_period('W') - temp.min().to_period('M'))\n",
    "            else:\n",
    "                temp_dict[int(ID)] = (df[date_id].max() - temp.max()).days\n",
    "                temp_dict2[int(ID)] = (df[date_id].max() - temp.min()).days\n",
    "    temp_series = pd.Series(data=list(temp_dict.values()), index=list(temp_dict.keys())).sort_index().fillna(0)\n",
    "    temp_series2 = pd.Series(data=list(temp_dict2.values()), index=list(temp_dict2.keys())).sort_index().fillna(0)\n",
    "    return (temp_series, temp_series2)"
   ]
  },
  {
   "cell_type": "code",
   "execution_count": 41,
   "metadata": {},
   "outputs": [],
   "source": [
    "transaction_times = transaction_time_delta(df, 'CustomerID', 'InvoiceDate')\n",
    "time_since = transaction_times[0]\n",
    "account_length = transaction_times[1]"
   ]
  },
  {
   "cell_type": "markdown",
   "metadata": {},
   "source": [
    "## Cluster Analysis\n"
   ]
  },
  {
   "cell_type": "code",
   "execution_count": 42,
   "metadata": {},
   "outputs": [
    {
     "data": {
      "text/html": [
       "<div>\n",
       "<style scoped>\n",
       "    .dataframe tbody tr th:only-of-type {\n",
       "        vertical-align: middle;\n",
       "    }\n",
       "\n",
       "    .dataframe tbody tr th {\n",
       "        vertical-align: top;\n",
       "    }\n",
       "\n",
       "    .dataframe thead th {\n",
       "        text-align: right;\n",
       "    }\n",
       "</style>\n",
       "<table border=\"1\" class=\"dataframe\">\n",
       "  <thead>\n",
       "    <tr style=\"text-align: right;\">\n",
       "      <th></th>\n",
       "      <th>MeanTransactionNetValue</th>\n",
       "      <th>NetLifetimeValue</th>\n",
       "      <th>TotalTranscations</th>\n",
       "      <th>MeanWeeksBwTransactions</th>\n",
       "      <th>WeeksSinceMostRecent</th>\n",
       "      <th>AccountLength</th>\n",
       "    </tr>\n",
       "    <tr>\n",
       "      <th>CustomerID</th>\n",
       "      <th></th>\n",
       "      <th></th>\n",
       "      <th></th>\n",
       "      <th></th>\n",
       "      <th></th>\n",
       "      <th></th>\n",
       "    </tr>\n",
       "  </thead>\n",
       "  <tbody>\n",
       "    <tr>\n",
       "      <th>12346.0</th>\n",
       "      <td>0.000000</td>\n",
       "      <td>0.00</td>\n",
       "      <td>2</td>\n",
       "      <td>0</td>\n",
       "      <td>46</td>\n",
       "      <td>46</td>\n",
       "    </tr>\n",
       "    <tr>\n",
       "      <th>12347.0</th>\n",
       "      <td>615.714286</td>\n",
       "      <td>4310.00</td>\n",
       "      <td>7</td>\n",
       "      <td>15</td>\n",
       "      <td>0</td>\n",
       "      <td>52</td>\n",
       "    </tr>\n",
       "    <tr>\n",
       "      <th>12348.0</th>\n",
       "      <td>449.310000</td>\n",
       "      <td>1797.24</td>\n",
       "      <td>4</td>\n",
       "      <td>26</td>\n",
       "      <td>11</td>\n",
       "      <td>51</td>\n",
       "    </tr>\n",
       "    <tr>\n",
       "      <th>12349.0</th>\n",
       "      <td>1757.550000</td>\n",
       "      <td>1757.55</td>\n",
       "      <td>1</td>\n",
       "      <td>0</td>\n",
       "      <td>2</td>\n",
       "      <td>2</td>\n",
       "    </tr>\n",
       "    <tr>\n",
       "      <th>12350.0</th>\n",
       "      <td>334.400000</td>\n",
       "      <td>334.40</td>\n",
       "      <td>1</td>\n",
       "      <td>0</td>\n",
       "      <td>44</td>\n",
       "      <td>44</td>\n",
       "    </tr>\n",
       "  </tbody>\n",
       "</table>\n",
       "</div>"
      ],
      "text/plain": [
       "            MeanTransactionNetValue  NetLifetimeValue  TotalTranscations  \\\n",
       "CustomerID                                                                 \n",
       "12346.0                    0.000000              0.00                  2   \n",
       "12347.0                  615.714286           4310.00                  7   \n",
       "12348.0                  449.310000           1797.24                  4   \n",
       "12349.0                 1757.550000           1757.55                  1   \n",
       "12350.0                  334.400000            334.40                  1   \n",
       "\n",
       "            MeanWeeksBwTransactions  WeeksSinceMostRecent  AccountLength  \n",
       "CustomerID                                                                \n",
       "12346.0                           0                    46             46  \n",
       "12347.0                          15                     0             52  \n",
       "12348.0                          26                    11             51  \n",
       "12349.0                           0                     2              2  \n",
       "12350.0                           0                    44             44  "
      ]
     },
     "execution_count": 42,
     "metadata": {},
     "output_type": "execute_result"
    }
   ],
   "source": [
    "master = df.groupby(['CustomerID', 'InvoiceNo'], as_index=False)['Rev'].sum()\n",
    "master = master.groupby(['CustomerID'])['Rev'].agg(['mean', 'sum', 'count']).sort_index()\n",
    "master.rename({'mean': 'MeanTransactionNetValue', \n",
    "               'sum': 'NetLifetimeValue', \n",
    "               'count': 'TotalTranscations'}, axis=1, inplace=True)\n",
    "master['MeanWeeksBwTransactions'] = time_deltas\n",
    "master['WeeksSinceMostRecent'] = time_since\n",
    "master['AccountLength'] = account_length\n",
    "master.head()"
   ]
  },
  {
   "cell_type": "markdown",
   "metadata": {},
   "source": [
    "### Scaling"
   ]
  },
  {
   "cell_type": "code",
   "execution_count": 43,
   "metadata": {},
   "outputs": [],
   "source": [
    "\n",
    "master_original = master.copy()\n",
    "master = pd.DataFrame(MaxAbsScaler().fit_transform(master), index=master.index, columns=master.columns)"
   ]
  },
  {
   "cell_type": "markdown",
   "metadata": {},
   "source": [
    "## PCA Analysis"
   ]
  },
  {
   "cell_type": "code",
   "execution_count": 44,
   "metadata": {},
   "outputs": [
    {
     "data": {
      "image/png": "[encoded data removed]",
      "text/plain": [
       "<Figure size 540x360 with 1 Axes>"
      ]
     },
     "metadata": {
      "needs_background": "light"
     },
     "output_type": "display_data"
    }
   ],
   "source": [
    "pca = PCA()\n",
    "pca.fit(master)\n",
    "plt.figure(figsize=(7.5, 5))\n",
    "plt.title('Explained Variance Ratio By Number of PCA Components')\n",
    "plt.ylabel('Explained Variance')\n",
    "plt.xlabel('N Components')\n",
    "sns.pointplot(x=np.arange(1, master.shape[1] + 1), y=pca.explained_variance_ratio_, lw=1)\n",
    "plt.show()"
   ]
  },
  {
   "cell_type": "code",
   "execution_count": 45,
   "metadata": {},
   "outputs": [],
   "source": [
    "master = pd.DataFrame(PCA(n_components=4).fit_transform(master), columns=['c1', 'c2', 'c3', 'c4'], index=master.index)"
   ]
  },
  {
   "cell_type": "code",
   "execution_count": 46,
   "metadata": {},
   "outputs": [],
   "source": [
    "def km_intertia(df, n_clusters):\n",
    "    inertias = []\n",
    "    temp_df = pd.DataFrame()\n",
    "    for n in n_clusters:\n",
    "        model = KMeans(n_clusters=n, random_state=10).fit(df)\n",
    "        model_predictions = model.predict(df)\n",
    "        inertias.append(model.inertia_)\n",
    "        temp_df['{0} clusters'.format(n)] = pd.Series(model_predictions, name='km{0}'.format(n), index=df.index)\n",
    "    plt.figure(figsize=(7.5, 5))\n",
    "    plt.title('Cluster Inertia at N Clusters')\n",
    "    plt.ylabel('Inertia')\n",
    "    plt.xlabel('N Clusters')\n",
    "    sns.pointplot(x=np.arange(1, 7), y=inertias, lw=1)\n",
    "    return pd.concat([temp_df, df], axis=1)\n"
   ]
  },
  {
   "cell_type": "code",
   "execution_count": 47,
   "metadata": {},
   "outputs": [
    {
     "data": {
      "image/png": "[encoded data removed]",
      "text/plain": [
       "<Figure size 540x360 with 1 Axes>"
      ]
     },
     "metadata": {
      "needs_background": "light"
     },
     "output_type": "display_data"
    }
   ],
   "source": [
    "kms = km_intertia(master, np.arange(1, 7))\n"
   ]
  },
  {
   "cell_type": "code",
   "execution_count": 48,
   "metadata": {},
   "outputs": [],
   "source": [
    "\n",
    "def silhouette_plots(df, cluster_counts, feat_names):\n",
    "    for n_clusters in cluster_counts:\n",
    "        fig, ax = plt.subplots()\n",
    "        fig.set_size_inches(10, 7)\n",
    "        # The 1st subplot is the silhouette plot\n",
    "        # The silhouette coefficient can range from -1, 1 but in this example all\n",
    "        # lie within [-0.1, 1]\n",
    "        ax.set_xlim([-0.2, 1])\n",
    "        # The (n_clusters+1)*10 is for inserting blank space between silhouette\n",
    "        # plots of individual clusters, to demarcate them clearly.\n",
    "        ax.set_ylim([0, len(df[feat_names]) + (n_clusters + 1) * 10])\n",
    "        # Initialize the clusterer with n_clusters value and a random generator\n",
    "        # seed of 10 for reproducibility.\n",
    "        cluster_labels = kms['{0} clusters'.format(n_clusters)]\n",
    "        # The silhouette_score gives the average value for all the samples.\n",
    "        # This gives a perspective into the density and separation of the formed\n",
    "        # clusters\n",
    "        silhouette_avg = silhouette_score(df[feat_names], cluster_labels)\n",
    "        print('At {0} clusters the mean silhouette score is {1}'.format(n_clusters, round(silhouette_avg, 4)))\n",
    "        # Compute the silhouette scores for each sample\n",
    "        sample_silhouette_values = silhouette_samples(df[feat_names], cluster_labels)\n",
    "        y_lower = 10\n",
    "        for i in range(n_clusters):\n",
    "            # Aggregate the silhouette scores for samples belonging to\n",
    "            # cluster i, and sort them\n",
    "            ith_cluster_silhouette_values = sample_silhouette_values[cluster_labels == i]\n",
    "            ith_cluster_silhouette_values.sort()\n",
    "            size_cluster_i = ith_cluster_silhouette_values.shape[0]\n",
    "            y_upper = y_lower + size_cluster_i\n",
    "            color = cm.spectral(float(i) / n_clusters)\n",
    "            ax.fill_betweenx(np.arange(y_lower, y_upper), 0, ith_cluster_silhouette_values, facecolor=color, edgecolor=color, alpha=0.7)\n",
    "            # Label the silhouette plots with their cluster numbers at the middle\n",
    "            ax.text(-0.05, y_lower + 0.5 * size_cluster_i, str(i))\n",
    "            # Compute the new y_lower for next plot\n",
    "            y_lower = y_upper + 10  # 10 for the 0 samples\n",
    "        ax.set_xlabel('The silhouette coefficient values')\n",
    "        ax.set_ylabel('Cluster label')\n",
    "        # The vertical line for average silhouette score of all the values\n",
    "        ax.axvline(x=silhouette_avg, color='red', linestyle='--')\n",
    "        ax.set_yticks([])  # Clear the yaxis labels / ticks\n",
    "        ax.set_xticks([-0.2, -0.1, 0, 0.2, 0.4, 0.6, 0.8, 1])\n",
    "        plt.title('Silhouette analysis for {0} clusters'.format(n_clusters))\n",
    "        plt.show()"
   ]
  },
  {
   "cell_type": "markdown",
   "metadata": {},
   "source": [
    "## Examining our clusters"
   ]
  },
  {
   "cell_type": "code",
   "execution_count": 49,
   "metadata": {},
   "outputs": [
    {
     "data": {
      "text/plain": [
       "<matplotlib.axes._subplots.AxesSubplot at 0x1d976c56e80>"
      ]
     },
     "execution_count": 49,
     "metadata": {},
     "output_type": "execute_result"
    },
    {
     "data": {
      "image/png": "[encoded data removed]",
      "text/plain": [
       "<Figure size 720x360 with 1 Axes>"
      ]
     },
     "metadata": {
      "needs_background": "light"
     },
     "output_type": "display_data"
    }
   ],
   "source": [
    "\n",
    "counts = kms['3 clusters'].value_counts().reset_index()\n",
    "counts.rename({'3 clusters': 'Count', 'index': 'Cluster'}, axis=1, inplace=True)\n",
    "plt.figure(figsize=(10, 5))\n",
    "plt.title('Cluster Sizes')\n",
    "plt.grid()\n",
    "sns.barplot(x='Cluster', y='Count', data=counts)"
   ]
  },
  {
   "cell_type": "markdown",
   "metadata": {},
   "source": [
    "### Cluster 0 is our largest cluster, representing 42.9% of our customers. Cluster 1 makes up 34.6% of the population and Cluster 2 is the smallest at 22.5%"
   ]
  },
  {
   "cell_type": "code",
   "execution_count": 50,
   "metadata": {},
   "outputs": [],
   "source": [
    "temp_df = df.drop_duplicates('CustomerID').set_index('CustomerID').sort_index()\n",
    "temp_df['Domestic'] = temp_df['Country'].where(temp_df['Country'] == 'United Kingdom', 'International')\n",
    "temp_df['Domestic'] = temp_df['Domestic'].where(temp_df['Domestic'] == 'International', 'Domestic')\n",
    "master = pd.concat([master_original, kms['3 clusters'], temp_df['Domestic']], axis=1)\n",
    "master.rename({'3 clusters': 'Cluster'}, axis=1, inplace=True)\n",
    "meanprops_dict = {'markerfacecolor': 'firebrick', 'marker': 'D', 'markeredgecolor': 'black'}"
   ]
  },
  {
   "cell_type": "code",
   "execution_count": 51,
   "metadata": {},
   "outputs": [
    {
     "data": {
      "text/plain": [
       "<matplotlib.axes._subplots.AxesSubplot at 0x1d9766db940>"
      ]
     },
     "execution_count": 51,
     "metadata": {},
     "output_type": "execute_result"
    },
    {
     "data": {
      "image/png": "[encoded data removed]",
      "text/plain": [
       "<Figure size 720x360 with 1 Axes>"
      ]
     },
     "metadata": {
      "needs_background": "light"
     },
     "output_type": "display_data"
    }
   ],
   "source": [
    "plt.figure(figsize=(10, 5))\n",
    "plt.title('Net Lifetime Value')\n",
    "plt.grid()\n",
    "sns.boxplot(data=master, x='Cluster', y='NetLifetimeValue', showmeans=True, \n",
    "            meanprops=meanprops_dict)"
   ]
  },
  {
   "cell_type": "markdown",
   "metadata": {},
   "source": [
    "##### We have significantly skewed distributions for our clusters. We'll filter outliers out and look at the prinicple spread, though it's also pretty clear that the big money makers are in Cluster 0. It makes sense to see that relatively few accounts bring in the most cash while the majority are middle of the road - the famous \"80/20 rule\"."
   ]
  },
  {
   "cell_type": "code",
   "execution_count": 52,
   "metadata": {},
   "outputs": [
    {
     "data": {
      "text/plain": [
       "<matplotlib.axes._subplots.AxesSubplot at 0x1d97556f4e0>"
      ]
     },
     "execution_count": 52,
     "metadata": {},
     "output_type": "execute_result"
    },
    {
     "data": {
      "image/png": "[encoded data removed]",
      "text/plain": [
       "<Figure size 720x360 with 1 Axes>"
      ]
     },
     "metadata": {
      "needs_background": "light"
     },
     "output_type": "display_data"
    }
   ],
   "source": [
    "plt.figure(figsize=(10, 5))\n",
    "plt.title('Net Lifetime Value')\n",
    "plt.grid()\n",
    "sns.boxplot(data=master[master['NetLifetimeValue'] < 10000], x='Cluster', y='NetLifetimeValue', \n",
    "            showmeans=True, meanprops=meanprops_dict)"
   ]
  },
  {
   "cell_type": "markdown",
   "metadata": {},
   "source": [
    "##### It's clear that the most profitable accounts are in Cluster 0. Both the mean and median values of the distribution are well above 1000, and the distribution is substantially higher than the other 2 clusters. There are outliers of significant financial value in all three clusters, but the previous plot is pretty clear where the most important accounts are. I'm also curious what sets Clusters 1 and 3 apart; I presume we'll find the answer among the frequency and recency questions. Next we'll consider the mean transaction net value for the customers in each cluster."
   ]
  },
  {
   "cell_type": "code",
   "execution_count": 53,
   "metadata": {},
   "outputs": [
    {
     "data": {
      "text/plain": [
       "<matplotlib.axes._subplots.AxesSubplot at 0x1d97555bf28>"
      ]
     },
     "execution_count": 53,
     "metadata": {},
     "output_type": "execute_result"
    },
    {
     "data": {
      "image/png": "[encoded data removed]",
      "text/plain": [
       "<Figure size 720x360 with 1 Axes>"
      ]
     },
     "metadata": {
      "needs_background": "light"
     },
     "output_type": "display_data"
    }
   ],
   "source": [
    "\n",
    "plt.figure(figsize=(10, 5))\n",
    "plt.title('Mean Transaction Net Value')\n",
    "plt.grid()\n",
    "sns.boxplot(data=master, x='Cluster', y='MeanTransactionNetValue', \n",
    "            showmeans=True, meanprops=meanprops_dict)"
   ]
  },
  {
   "cell_type": "code",
   "execution_count": 54,
   "metadata": {},
   "outputs": [
    {
     "data": {
      "text/plain": [
       "<matplotlib.axes._subplots.AxesSubplot at 0x1d97ad57240>"
      ]
     },
     "execution_count": 54,
     "metadata": {},
     "output_type": "execute_result"
    },
    {
     "data": {
      "image/png": "[encoded data removed]",
      "text/plain": [
       "<Figure size 720x360 with 1 Axes>"
      ]
     },
     "metadata": {
      "needs_background": "light"
     },
     "output_type": "display_data"
    }
   ],
   "source": [
    "plt.figure(figsize=(10, 5))\n",
    "plt.title('Mean Transaction Net Value')\n",
    "plt.grid()\n",
    "sns.boxplot(data=master[(master['NetLifetimeValue'] < 1000) & (master['NetLifetimeValue'] > -1000)], \n",
    "            x='Cluster', y='MeanTransactionNetValue', showmeans=True, meanprops=meanprops_dict)"
   ]
  },
  {
   "cell_type": "markdown",
   "metadata": {},
   "source": [
    "#### The spread for each cluster is generally centered in the same area, with both means and medians centered at the 200 mark, and still skewed. The distributions for Clusters 1 and 3 dip further into negative territory than Cluster 0. Our positive outliers seen in all 3 groups tell me that the vast majority of customers are making transactions of about the same value.I presume the disparity between net lifetime value and mean transaction net value has to do with the number of transactions made by each cluster, so that's where we'll look next."
   ]
  },
  {
   "cell_type": "code",
   "execution_count": 55,
   "metadata": {},
   "outputs": [
    {
     "data": {
      "text/plain": [
       "<matplotlib.axes._subplots.AxesSubplot at 0x1d9766dba20>"
      ]
     },
     "execution_count": 55,
     "metadata": {},
     "output_type": "execute_result"
    },
    {
     "data": {
      "image/png": "[encoded data removed]",
      "text/plain": [
       "<Figure size 720x360 with 1 Axes>"
      ]
     },
     "metadata": {
      "needs_background": "light"
     },
     "output_type": "display_data"
    }
   ],
   "source": [
    "plt.figure(figsize=(10, 5))\n",
    "plt.title('Total Transactions')\n",
    "plt.grid()\n",
    "sns.boxplot(data=master, x='Cluster', y='TotalTranscations', showmeans=True, \n",
    "            meanprops=meanprops_dict)"
   ]
  },
  {
   "cell_type": "code",
   "execution_count": 56,
   "metadata": {},
   "outputs": [
    {
     "data": {
      "text/plain": [
       "<matplotlib.axes._subplots.AxesSubplot at 0x1d9793d52e8>"
      ]
     },
     "execution_count": 56,
     "metadata": {},
     "output_type": "execute_result"
    },
    {
     "data": {
      "image/png": "[encoded data removed]",
      "text/plain": [
       "<Figure size 720x360 with 1 Axes>"
      ]
     },
     "metadata": {
      "needs_background": "light"
     },
     "output_type": "display_data"
    }
   ],
   "source": [
    "plt.figure(figsize=(10, 5))\n",
    "plt.title('Total Transactions')\n",
    "plt.grid()\n",
    "sns.boxplot(data=master[master['TotalTranscations'] < 25], x='Cluster', y='TotalTranscations', \n",
    "            showmeans=True, meanprops=meanprops_dict)"
   ]
  },
  {
   "cell_type": "markdown",
   "metadata": {},
   "source": [
    "#### This plot is very telling. Cluster 0 is unequivocally making up most day to day transactions, while the other two clusters once again have a similar presentation. Now we'll look at frequency and recency, which hopefully will start to tell us more about Clusters 1 and 2, which so far have looked mostly alike."
   ]
  },
  {
   "cell_type": "code",
   "execution_count": 57,
   "metadata": {},
   "outputs": [
    {
     "data": {
      "text/plain": [
       "<matplotlib.axes._subplots.AxesSubplot at 0x1d978f23080>"
      ]
     },
     "execution_count": 57,
     "metadata": {},
     "output_type": "execute_result"
    },
    {
     "data": {
      "image/png": "[encoded data removed]",
      "text/plain": [
       "<Figure size 1440x1080 with 3 Axes>"
      ]
     },
     "metadata": {
      "needs_background": "light"
     },
     "output_type": "display_data"
    }
   ],
   "source": [
    "plt.figure(figsize=(20, 15))\n",
    "plt.subplot(2, 2, 1)\n",
    "plt.title('Mean Weeks Between Transactions')\n",
    "plt.grid()\n",
    "sns.boxplot(data=master, x='Cluster', y='MeanWeeksBwTransactions', showmeans=True, \n",
    "            meanprops=meanprops_dict)\n",
    "plt.subplot(2, 2, 2)\n",
    "plt.title('Weeks Since Most Recent Transaction')\n",
    "plt.grid()\n",
    "sns.boxplot(data=master, x='Cluster', y='WeeksSinceMostRecent', showmeans=True, \n",
    "            meanprops=meanprops_dict)\n",
    "plt.subplot(2, 2, 3)\n",
    "plt.title('Account Length')\n",
    "plt.grid()\n",
    "sns.boxplot(data=master, x='Cluster', y='AccountLength', showmeans=True, \n",
    "            meanprops=meanprops_dict)"
   ]
  },
  {
   "cell_type": "markdown",
   "metadata": {},
   "source": [
    "#### It looks like Cluster 2 are newer accounts, and thus aren't represented well with total transactions and net value; their account lengths are much shorter than the other two clusters. They also compare favorably with Cluster 0 in terms of recency, having relatively similar distributions. It also appears that Cluster 1 represents accounts of lesser value: they have low lifetime value and not many total transactions, yet have long relationships with the company. They also are not representing present business, far behind the other two clusters regarding time since last transaction. The only curiosity is that the Cluster 0 spread is more infrequent that the other clusters. I put this down to it being the largest segment, including with it the most variation. I don't think this is of particular importance, especially when you consider their strong financial value and consistency. One more thing to consider is location: we didn't include geography into our clustering."
   ]
  },
  {
   "cell_type": "markdown",
   "metadata": {},
   "source": [
    "# Implications\n",
    "## Cluster 0: Consistent and Loyal\n",
    "#### This is your cash cow segment. These are prime accounts that offer consistent business, and includes the extremely large and valuable accounts. Those accounts are given to your best and most experienced account managers, while the others fill out books of business alongside relationships in need of development.\n",
    "\n",
    "## Cluster 1: Limited Present Value \n",
    "#### Of all three clusters, customers in this group have the lowest mean lifetime value and the greatest mean time since their last transaction, all while being long-time customers. Relationships with this segment are fairly inert, and I believe these are the accounts that probably have a greater share of wallet to be won, and deserve some renewed attention from the sales team.\n",
    "\n",
    "## Cluster 2: New Potential\n",
    "#### As a population, these customers have low average lifetime value, but a short history with the company, and as a group they have a strong showing of recent transaction activity. These are promising young relationships that have the potential to mature into high value accounts. I would love to have actual customer information to expand our analysis. This is a B2B company we're examining, so information like customer budgets or their industry ould be very useful to dig deepr. The last task remaining is to train a classifier in order to predict which of our 3 segments other customers of ours may belong to."
   ]
  },
  {
   "cell_type": "code",
   "execution_count": null,
   "metadata": {},
   "outputs": [],
   "source": []
  },
  {
   "cell_type": "code",
   "execution_count": null,
   "metadata": {},
   "outputs": [],
   "source": []
  },
  {
   "cell_type": "code",
   "execution_count": null,
   "metadata": {},
   "outputs": [],
   "source": []
  }
 ],
 "metadata": {
  "kernelspec": {
   "display_name": "Python 3",
   "language": "python",
   "name": "python3"
  }
 },
 "nbformat": 4,
 "nbformat_minor": 2
}
